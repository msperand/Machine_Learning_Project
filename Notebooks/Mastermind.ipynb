{
  "nbformat": 4,
  "nbformat_minor": 0,
  "metadata": {
    "colab": {
      "provenance": [],
      "collapsed_sections": [
        "YpNuhHsMRbAb",
        "OoelA7ghGHU2",
        "-C4p9PivFdfx",
        "7kUgzqpD4RyO"
      ]
    },
    "kernelspec": {
      "name": "python3",
      "display_name": "Python 3"
    },
    "language_info": {
      "name": "python"
    }
  },
  "cells": [
    {
      "cell_type": "markdown",
      "source": [
        "# Import Libraries"
      ],
      "metadata": {
        "id": "YpNuhHsMRbAb"
      }
    },
    {
      "cell_type": "code",
      "execution_count": null,
      "metadata": {
        "id": "zaoAdZw6YRji"
      },
      "outputs": [],
      "source": [
        "import pandas as pd\n",
        "import matplotlib.pyplot as plt"
      ]
    },
    {
      "cell_type": "markdown",
      "source": [
        "# Import Data"
      ],
      "metadata": {
        "id": "OoelA7ghGHU2"
      }
    },
    {
      "cell_type": "code",
      "source": [
        "df_630 = pd.read_csv('https://raw.githubusercontent.com/msperand/Machine_Learning_Project/main/Data/Predictions_for_mastermind/DA_full_FlauBERT_large_vs0_2_decay0_1_6epochs_rs42_dacs_1.csv')\n",
        "df_628 = pd.read_csv('https://raw.githubusercontent.com/msperand/Machine_Learning_Project/main/Data/Predictions_for_mastermind/DA_full_FlauBERT_large_vs0_2_decay0_05_6epochs_rs0_dacs_1.csv')\n",
        "df_611 = pd.read_csv('https://raw.githubusercontent.com/msperand/Machine_Learning_Project/main/Data/Predictions_for_mastermind/DA_FlauBERT_large_vs0_4_decay0_05_6epochs_rs11_dacs_0_5%202.csv')\n",
        "df_609 = pd.read_csv('https://raw.githubusercontent.com/msperand/Machine_Learning_Project/main/Data/Predictions_for_mastermind/DA_FlauBERT_large_vs0_4_4epochs_rs42_dacs_1.csv')\n",
        "df_612 = pd.read_csv('https://raw.githubusercontent.com/msperand/Machine_Learning_Project/main/Data/Predictions_for_mastermind/DA_full_FlauBERT_large_vs0_4_decay0_05_6epochs_rs42_dacs_1.csv')\n",
        "df_630_2 = pd.read_csv('https://raw.githubusercontent.com/msperand/Machine_Learning_Project/main/Data/Predictions_for_mastermind/DA_full_FlauBERT_large_vs0_2_decay0_05_4epochs_rs42_dacs_1.csv')\n",
        "df_635 = pd.read_csv('https://raw.githubusercontent.com/msperand/Machine_Learning_Project/main/Data/Predictions_for_mastermind/DA_full_FlauBERT_large_vs0_2_bs16_decay0_05_rs42_dacs_1.csv')"
      ],
      "metadata": {
        "id": "lE7iN2pgGL8L"
      },
      "execution_count": null,
      "outputs": []
    },
    {
      "cell_type": "markdown",
      "source": [
        "# Define Functions"
      ],
      "metadata": {
        "id": "wDd4OwfvJ0ZR"
      }
    },
    {
      "cell_type": "code",
      "source": [
        "# This function calculates the weighted average prediction amongst the predictions of various models\n",
        "def megamind_weighted(df, accuracies):\n",
        "    new_column = {}\n",
        "\n",
        "    for id_val in df['id']:\n",
        "        voting_counts = {}\n",
        "        for column, accuracy in zip(df.columns[1:], accuracies):\n",
        "            difficulty_level = df.loc[df['id'] == id_val, column].iloc[0]\n",
        "            if difficulty_level not in voting_counts:\n",
        "                voting_counts[difficulty_level] = 0\n",
        "            voting_counts[difficulty_level] += accuracy\n",
        "\n",
        "        optimized_prediction = max(voting_counts, key=voting_counts.get)\n",
        "        new_column[id_val] = optimized_prediction\n",
        "\n",
        "    df['difficulty'] = df['id'].map(new_column)\n",
        "\n",
        "    df_final_weighted = df.loc[:, ['id', 'difficulty']]\n",
        "\n",
        "    return df_final_weighted"
      ],
      "metadata": {
        "id": "iJ8A88lFJ2_a"
      },
      "execution_count": null,
      "outputs": []
    },
    {
      "cell_type": "code",
      "source": [
        "# This function integrates the predictions of several models into the predictions of a given model\n",
        "# in cases where all other models agree on the difficulty level.\n",
        "def megamind_of_megamind_outliers(accuracies, df, df_best_accuracy):\n",
        "    merged_df = pd.merge(df, df_best_accuracy, on='id')\n",
        "\n",
        "    others = [col for col in merged_df.columns if col not in ['id', 'difficulty']]\n",
        "\n",
        "    new_column_name = 'difficulty_better'\n",
        "\n",
        "    def get_new_value(row):\n",
        "        if all(row[c] == row[others[0]] for c in others[1:]):\n",
        "            return row[others[0]]\n",
        "        else:\n",
        "            return row['difficulty']\n",
        "\n",
        "    merged_df[new_column_name] = merged_df.apply(get_new_value, axis=1)\n",
        "\n",
        "    df_final_outliers = merged_df.loc[:, ['id', new_column_name]]\n",
        "    df_final_outliers.rename(columns={new_column_name: 'difficulty'}, inplace=True)\n",
        "\n",
        "    return df_final_outliers"
      ],
      "metadata": {
        "id": "ct67l4nfKBT5"
      },
      "execution_count": null,
      "outputs": []
    },
    {
      "cell_type": "markdown",
      "source": [
        "# Merge the various dataframes"
      ],
      "metadata": {
        "id": "XKuXniXsKwak"
      }
    },
    {
      "cell_type": "code",
      "source": [
        "def merge_on_id(left, right, suffix):\n",
        "    return pd.merge(left, right, on='id', how='inner', suffixes=('', f'_{suffix}'))\n",
        "\n",
        "dataframes_with_suffixes = [\n",
        "    (df_630, '630'),\n",
        "    (df_628, '628'),\n",
        "    (df_630_2, '630_2'),\n",
        "    (df_635, '635'),\n",
        "    (df_611, '611'),\n",
        "    (df_609, '609'),\n",
        "    (df_612, '612'),\n",
        "]\n",
        "\n",
        "merged_df = dataframes_with_suffixes[0][0]\n",
        "\n",
        "for df, suffix in dataframes_with_suffixes[1:]:\n",
        "    merged_df = merge_on_id(merged_df, df, suffix)\n",
        "\n",
        "merged_df.rename(columns={'difficulty': 'difficulty_630'}, inplace=True)"
      ],
      "metadata": {
        "id": "L5TWge0cK1KQ"
      },
      "execution_count": null,
      "outputs": []
    },
    {
      "cell_type": "markdown",
      "source": [
        "# Execute code"
      ],
      "metadata": {
        "id": "L3R4kdbYK944"
      }
    },
    {
      "cell_type": "code",
      "source": [
        "# This combination gives the best result of 65.2%\n",
        "\n",
        "# Here we calculate the weighted average prediction amongst the models\n",
        "accuracies = [630, 628, 630.1, 635]\n",
        "df_int = merged_df.loc[:, ['id', 'difficulty_630', 'difficulty_628', 'difficulty_630_2', 'difficulty_635']]\n",
        "df_meta = megamind_weighted(df_int, accuracies)\n",
        "\n",
        "# Here we correct the previously obtained predictions with the remaining three models\n",
        "accuracies = [611, 609, 612]\n",
        "df_int = merged_df.loc[:, ['id', 'difficulty_611', 'difficulty_609', 'difficulty_612']]\n",
        "df_meta = megamind_of_megamind_outliers(accuracies, df_int, df_meta)\n",
        "\n",
        "df_meta"
      ],
      "metadata": {
        "colab": {
          "base_uri": "https://localhost:8080/",
          "height": 419
        },
        "id": "NayF_tVlN67x",
        "outputId": "cd3d5659-60c6-4b43-97a9-1749da6ed110"
      },
      "execution_count": null,
      "outputs": [
        {
          "output_type": "execute_result",
          "data": {
            "text/plain": [
              "        id difficulty\n",
              "0        0         C2\n",
              "1        1         B1\n",
              "2        2         B1\n",
              "3        3         B1\n",
              "4        4         C2\n",
              "...    ...        ...\n",
              "1195  1195         B1\n",
              "1196  1196         A2\n",
              "1197  1197         C2\n",
              "1198  1198         B2\n",
              "1199  1199         B2\n",
              "\n",
              "[1200 rows x 2 columns]"
            ],
            "text/html": [
              "\n",
              "  <div id=\"df-900b2e11-2488-476f-8538-04ddd0721228\" class=\"colab-df-container\">\n",
              "    <div>\n",
              "<style scoped>\n",
              "    .dataframe tbody tr th:only-of-type {\n",
              "        vertical-align: middle;\n",
              "    }\n",
              "\n",
              "    .dataframe tbody tr th {\n",
              "        vertical-align: top;\n",
              "    }\n",
              "\n",
              "    .dataframe thead th {\n",
              "        text-align: right;\n",
              "    }\n",
              "</style>\n",
              "<table border=\"1\" class=\"dataframe\">\n",
              "  <thead>\n",
              "    <tr style=\"text-align: right;\">\n",
              "      <th></th>\n",
              "      <th>id</th>\n",
              "      <th>difficulty</th>\n",
              "    </tr>\n",
              "  </thead>\n",
              "  <tbody>\n",
              "    <tr>\n",
              "      <th>0</th>\n",
              "      <td>0</td>\n",
              "      <td>C2</td>\n",
              "    </tr>\n",
              "    <tr>\n",
              "      <th>1</th>\n",
              "      <td>1</td>\n",
              "      <td>B1</td>\n",
              "    </tr>\n",
              "    <tr>\n",
              "      <th>2</th>\n",
              "      <td>2</td>\n",
              "      <td>B1</td>\n",
              "    </tr>\n",
              "    <tr>\n",
              "      <th>3</th>\n",
              "      <td>3</td>\n",
              "      <td>B1</td>\n",
              "    </tr>\n",
              "    <tr>\n",
              "      <th>4</th>\n",
              "      <td>4</td>\n",
              "      <td>C2</td>\n",
              "    </tr>\n",
              "    <tr>\n",
              "      <th>...</th>\n",
              "      <td>...</td>\n",
              "      <td>...</td>\n",
              "    </tr>\n",
              "    <tr>\n",
              "      <th>1195</th>\n",
              "      <td>1195</td>\n",
              "      <td>B1</td>\n",
              "    </tr>\n",
              "    <tr>\n",
              "      <th>1196</th>\n",
              "      <td>1196</td>\n",
              "      <td>A2</td>\n",
              "    </tr>\n",
              "    <tr>\n",
              "      <th>1197</th>\n",
              "      <td>1197</td>\n",
              "      <td>C2</td>\n",
              "    </tr>\n",
              "    <tr>\n",
              "      <th>1198</th>\n",
              "      <td>1198</td>\n",
              "      <td>B2</td>\n",
              "    </tr>\n",
              "    <tr>\n",
              "      <th>1199</th>\n",
              "      <td>1199</td>\n",
              "      <td>B2</td>\n",
              "    </tr>\n",
              "  </tbody>\n",
              "</table>\n",
              "<p>1200 rows × 2 columns</p>\n",
              "</div>\n",
              "    <div class=\"colab-df-buttons\">\n",
              "\n",
              "  <div class=\"colab-df-container\">\n",
              "    <button class=\"colab-df-convert\" onclick=\"convertToInteractive('df-900b2e11-2488-476f-8538-04ddd0721228')\"\n",
              "            title=\"Convert this dataframe to an interactive table.\"\n",
              "            style=\"display:none;\">\n",
              "\n",
              "  <svg xmlns=\"http://www.w3.org/2000/svg\" height=\"24px\" viewBox=\"0 -960 960 960\">\n",
              "    <path d=\"M120-120v-720h720v720H120Zm60-500h600v-160H180v160Zm220 220h160v-160H400v160Zm0 220h160v-160H400v160ZM180-400h160v-160H180v160Zm440 0h160v-160H620v160ZM180-180h160v-160H180v160Zm440 0h160v-160H620v160Z\"/>\n",
              "  </svg>\n",
              "    </button>\n",
              "\n",
              "  <style>\n",
              "    .colab-df-container {\n",
              "      display:flex;\n",
              "      gap: 12px;\n",
              "    }\n",
              "\n",
              "    .colab-df-convert {\n",
              "      background-color: #E8F0FE;\n",
              "      border: none;\n",
              "      border-radius: 50%;\n",
              "      cursor: pointer;\n",
              "      display: none;\n",
              "      fill: #1967D2;\n",
              "      height: 32px;\n",
              "      padding: 0 0 0 0;\n",
              "      width: 32px;\n",
              "    }\n",
              "\n",
              "    .colab-df-convert:hover {\n",
              "      background-color: #E2EBFA;\n",
              "      box-shadow: 0px 1px 2px rgba(60, 64, 67, 0.3), 0px 1px 3px 1px rgba(60, 64, 67, 0.15);\n",
              "      fill: #174EA6;\n",
              "    }\n",
              "\n",
              "    .colab-df-buttons div {\n",
              "      margin-bottom: 4px;\n",
              "    }\n",
              "\n",
              "    [theme=dark] .colab-df-convert {\n",
              "      background-color: #3B4455;\n",
              "      fill: #D2E3FC;\n",
              "    }\n",
              "\n",
              "    [theme=dark] .colab-df-convert:hover {\n",
              "      background-color: #434B5C;\n",
              "      box-shadow: 0px 1px 3px 1px rgba(0, 0, 0, 0.15);\n",
              "      filter: drop-shadow(0px 1px 2px rgba(0, 0, 0, 0.3));\n",
              "      fill: #FFFFFF;\n",
              "    }\n",
              "  </style>\n",
              "\n",
              "    <script>\n",
              "      const buttonEl =\n",
              "        document.querySelector('#df-900b2e11-2488-476f-8538-04ddd0721228 button.colab-df-convert');\n",
              "      buttonEl.style.display =\n",
              "        google.colab.kernel.accessAllowed ? 'block' : 'none';\n",
              "\n",
              "      async function convertToInteractive(key) {\n",
              "        const element = document.querySelector('#df-900b2e11-2488-476f-8538-04ddd0721228');\n",
              "        const dataTable =\n",
              "          await google.colab.kernel.invokeFunction('convertToInteractive',\n",
              "                                                    [key], {});\n",
              "        if (!dataTable) return;\n",
              "\n",
              "        const docLinkHtml = 'Like what you see? Visit the ' +\n",
              "          '<a target=\"_blank\" href=https://colab.research.google.com/notebooks/data_table.ipynb>data table notebook</a>'\n",
              "          + ' to learn more about interactive tables.';\n",
              "        element.innerHTML = '';\n",
              "        dataTable['output_type'] = 'display_data';\n",
              "        await google.colab.output.renderOutput(dataTable, element);\n",
              "        const docLink = document.createElement('div');\n",
              "        docLink.innerHTML = docLinkHtml;\n",
              "        element.appendChild(docLink);\n",
              "      }\n",
              "    </script>\n",
              "  </div>\n",
              "\n",
              "\n",
              "<div id=\"df-e59f48d0-cc11-4305-98ca-3da3e6ec93d4\">\n",
              "  <button class=\"colab-df-quickchart\" onclick=\"quickchart('df-e59f48d0-cc11-4305-98ca-3da3e6ec93d4')\"\n",
              "            title=\"Suggest charts\"\n",
              "            style=\"display:none;\">\n",
              "\n",
              "<svg xmlns=\"http://www.w3.org/2000/svg\" height=\"24px\"viewBox=\"0 0 24 24\"\n",
              "     width=\"24px\">\n",
              "    <g>\n",
              "        <path d=\"M19 3H5c-1.1 0-2 .9-2 2v14c0 1.1.9 2 2 2h14c1.1 0 2-.9 2-2V5c0-1.1-.9-2-2-2zM9 17H7v-7h2v7zm4 0h-2V7h2v10zm4 0h-2v-4h2v4z\"/>\n",
              "    </g>\n",
              "</svg>\n",
              "  </button>\n",
              "\n",
              "<style>\n",
              "  .colab-df-quickchart {\n",
              "      --bg-color: #E8F0FE;\n",
              "      --fill-color: #1967D2;\n",
              "      --hover-bg-color: #E2EBFA;\n",
              "      --hover-fill-color: #174EA6;\n",
              "      --disabled-fill-color: #AAA;\n",
              "      --disabled-bg-color: #DDD;\n",
              "  }\n",
              "\n",
              "  [theme=dark] .colab-df-quickchart {\n",
              "      --bg-color: #3B4455;\n",
              "      --fill-color: #D2E3FC;\n",
              "      --hover-bg-color: #434B5C;\n",
              "      --hover-fill-color: #FFFFFF;\n",
              "      --disabled-bg-color: #3B4455;\n",
              "      --disabled-fill-color: #666;\n",
              "  }\n",
              "\n",
              "  .colab-df-quickchart {\n",
              "    background-color: var(--bg-color);\n",
              "    border: none;\n",
              "    border-radius: 50%;\n",
              "    cursor: pointer;\n",
              "    display: none;\n",
              "    fill: var(--fill-color);\n",
              "    height: 32px;\n",
              "    padding: 0;\n",
              "    width: 32px;\n",
              "  }\n",
              "\n",
              "  .colab-df-quickchart:hover {\n",
              "    background-color: var(--hover-bg-color);\n",
              "    box-shadow: 0 1px 2px rgba(60, 64, 67, 0.3), 0 1px 3px 1px rgba(60, 64, 67, 0.15);\n",
              "    fill: var(--button-hover-fill-color);\n",
              "  }\n",
              "\n",
              "  .colab-df-quickchart-complete:disabled,\n",
              "  .colab-df-quickchart-complete:disabled:hover {\n",
              "    background-color: var(--disabled-bg-color);\n",
              "    fill: var(--disabled-fill-color);\n",
              "    box-shadow: none;\n",
              "  }\n",
              "\n",
              "  .colab-df-spinner {\n",
              "    border: 2px solid var(--fill-color);\n",
              "    border-color: transparent;\n",
              "    border-bottom-color: var(--fill-color);\n",
              "    animation:\n",
              "      spin 1s steps(1) infinite;\n",
              "  }\n",
              "\n",
              "  @keyframes spin {\n",
              "    0% {\n",
              "      border-color: transparent;\n",
              "      border-bottom-color: var(--fill-color);\n",
              "      border-left-color: var(--fill-color);\n",
              "    }\n",
              "    20% {\n",
              "      border-color: transparent;\n",
              "      border-left-color: var(--fill-color);\n",
              "      border-top-color: var(--fill-color);\n",
              "    }\n",
              "    30% {\n",
              "      border-color: transparent;\n",
              "      border-left-color: var(--fill-color);\n",
              "      border-top-color: var(--fill-color);\n",
              "      border-right-color: var(--fill-color);\n",
              "    }\n",
              "    40% {\n",
              "      border-color: transparent;\n",
              "      border-right-color: var(--fill-color);\n",
              "      border-top-color: var(--fill-color);\n",
              "    }\n",
              "    60% {\n",
              "      border-color: transparent;\n",
              "      border-right-color: var(--fill-color);\n",
              "    }\n",
              "    80% {\n",
              "      border-color: transparent;\n",
              "      border-right-color: var(--fill-color);\n",
              "      border-bottom-color: var(--fill-color);\n",
              "    }\n",
              "    90% {\n",
              "      border-color: transparent;\n",
              "      border-bottom-color: var(--fill-color);\n",
              "    }\n",
              "  }\n",
              "</style>\n",
              "\n",
              "  <script>\n",
              "    async function quickchart(key) {\n",
              "      const quickchartButtonEl =\n",
              "        document.querySelector('#' + key + ' button');\n",
              "      quickchartButtonEl.disabled = true;  // To prevent multiple clicks.\n",
              "      quickchartButtonEl.classList.add('colab-df-spinner');\n",
              "      try {\n",
              "        const charts = await google.colab.kernel.invokeFunction(\n",
              "            'suggestCharts', [key], {});\n",
              "      } catch (error) {\n",
              "        console.error('Error during call to suggestCharts:', error);\n",
              "      }\n",
              "      quickchartButtonEl.classList.remove('colab-df-spinner');\n",
              "      quickchartButtonEl.classList.add('colab-df-quickchart-complete');\n",
              "    }\n",
              "    (() => {\n",
              "      let quickchartButtonEl =\n",
              "        document.querySelector('#df-e59f48d0-cc11-4305-98ca-3da3e6ec93d4 button');\n",
              "      quickchartButtonEl.style.display =\n",
              "        google.colab.kernel.accessAllowed ? 'block' : 'none';\n",
              "    })();\n",
              "  </script>\n",
              "</div>\n",
              "    </div>\n",
              "  </div>\n"
            ],
            "application/vnd.google.colaboratory.intrinsic+json": {
              "type": "dataframe",
              "variable_name": "df_meta",
              "summary": "{\n  \"name\": \"df_meta\",\n  \"rows\": 1200,\n  \"fields\": [\n    {\n      \"column\": \"id\",\n      \"properties\": {\n        \"dtype\": \"number\",\n        \"std\": 346,\n        \"min\": 0,\n        \"max\": 1199,\n        \"num_unique_values\": 1200,\n        \"samples\": [\n          1178,\n          865,\n          101\n        ],\n        \"semantic_type\": \"\",\n        \"description\": \"\"\n      }\n    },\n    {\n      \"column\": \"difficulty\",\n      \"properties\": {\n        \"dtype\": \"category\",\n        \"num_unique_values\": 6,\n        \"samples\": [\n          \"C2\",\n          \"B1\",\n          \"B2\"\n        ],\n        \"semantic_type\": \"\",\n        \"description\": \"\"\n      }\n    }\n  ]\n}"
            }
          },
          "metadata": {},
          "execution_count": 7
        }
      ]
    },
    {
      "cell_type": "code",
      "source": [
        "df_meta.difficulty.value_counts()"
      ],
      "metadata": {
        "colab": {
          "base_uri": "https://localhost:8080/"
        },
        "id": "g5elocyjLQvk",
        "outputId": "314611bf-2672-43d1-dc2d-d379afdd1631"
      },
      "execution_count": null,
      "outputs": [
        {
          "output_type": "execute_result",
          "data": {
            "text/plain": [
              "difficulty\n",
              "B2    214\n",
              "A1    207\n",
              "C1    204\n",
              "A2    204\n",
              "C2    186\n",
              "B1    185\n",
              "Name: count, dtype: int64"
            ]
          },
          "metadata": {},
          "execution_count": 8
        }
      ]
    },
    {
      "cell_type": "markdown",
      "source": [
        "# Download predictions"
      ],
      "metadata": {
        "id": "YyW9sZ-tLBkt"
      }
    },
    {
      "cell_type": "code",
      "source": [
        "df_meta.to_csv('Megamind_Final.csv',index=False)"
      ],
      "metadata": {
        "id": "Eflj2TapMSLj"
      },
      "execution_count": null,
      "outputs": []
    }
  ]
}